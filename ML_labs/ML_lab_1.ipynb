{
  "nbformat": 4,
  "nbformat_minor": 0,
  "metadata": {
    "colab": {
      "name": "ML_lab_1.ipynb",
      "provenance": [],
      "collapsed_sections": [
        "djJ1OgNsd5Pd"
      ]
    },
    "kernelspec": {
      "name": "python3",
      "display_name": "Python 3"
    }
  },
  "cells": [
    {
      "cell_type": "markdown",
      "metadata": {
        "id": "Iu84RACvNHls",
        "colab_type": "text"
      },
      "source": [
        "import lib"
      ]
    },
    {
      "cell_type": "code",
      "metadata": {
        "id": "3WsXIZ2_HEe6",
        "colab_type": "code",
        "colab": {}
      },
      "source": [
        "import numpy as np\n",
        "import pandas as pd\n",
        "import matplotlib.pyplot as plt\n",
        "import sklearn as skl\n",
        "from sklearn.model_selection import train_test_split\n",
        "from sklearn import linear_model\n",
        "from sklearn.metrics import r2_score\n",
        "import scipy"
      ],
      "execution_count": 0,
      "outputs": []
    },
    {
      "cell_type": "markdown",
      "metadata": {
        "id": "LRcd1LZtNEDT",
        "colab_type": "text"
      },
      "source": [
        "import dataset"
      ]
    },
    {
      "cell_type": "code",
      "metadata": {
        "id": "wJGDWRyZJtFy",
        "colab_type": "code",
        "colab": {}
      },
      "source": [
        "df = pd.read_csv('/content/house_price_predict.csv')"
      ],
      "execution_count": 0,
      "outputs": []
    },
    {
      "cell_type": "markdown",
      "metadata": {
        "id": "vUZpcxNfNVdO",
        "colab_type": "text"
      },
      "source": [
        "look on data and delete 1 column\n",
        "\n"
      ]
    },
    {
      "cell_type": "code",
      "metadata": {
        "id": "2RhhXhnDg4sG",
        "colab_type": "code",
        "outputId": "f5a50d78-602f-410b-94d1-85026ccf623c",
        "colab": {
          "base_uri": "https://localhost:8080/",
          "height": 419
        }
      },
      "source": [
        "df = df.iloc[:, 1:15]\n",
        "df"
      ],
      "execution_count": 0,
      "outputs": [
        {
          "output_type": "execute_result",
          "data": {
            "text/html": [
              "<div>\n",
              "<style scoped>\n",
              "    .dataframe tbody tr th:only-of-type {\n",
              "        vertical-align: middle;\n",
              "    }\n",
              "\n",
              "    .dataframe tbody tr th {\n",
              "        vertical-align: top;\n",
              "    }\n",
              "\n",
              "    .dataframe thead th {\n",
              "        text-align: right;\n",
              "    }\n",
              "</style>\n",
              "<table border=\"1\" class=\"dataframe\">\n",
              "  <thead>\n",
              "    <tr style=\"text-align: right;\">\n",
              "      <th></th>\n",
              "      <th>CRIM</th>\n",
              "      <th>ZN</th>\n",
              "      <th>INDUS</th>\n",
              "      <th>CHAS</th>\n",
              "      <th>NOX</th>\n",
              "      <th>RM</th>\n",
              "      <th>AGE</th>\n",
              "      <th>DIS</th>\n",
              "      <th>RAD</th>\n",
              "      <th>TAX</th>\n",
              "      <th>PTRATIO</th>\n",
              "      <th>B</th>\n",
              "      <th>LSTAT</th>\n",
              "      <th>Price</th>\n",
              "    </tr>\n",
              "  </thead>\n",
              "  <tbody>\n",
              "    <tr>\n",
              "      <th>0</th>\n",
              "      <td>0.000013</td>\n",
              "      <td>0.035997</td>\n",
              "      <td>0.004620</td>\n",
              "      <td>0.0</td>\n",
              "      <td>0.001076</td>\n",
              "      <td>0.013149</td>\n",
              "      <td>0.130388</td>\n",
              "      <td>0.008179</td>\n",
              "      <td>0.002000</td>\n",
              "      <td>0.591945</td>\n",
              "      <td>0.030597</td>\n",
              "      <td>0.793727</td>\n",
              "      <td>0.009959</td>\n",
              "      <td>24.0</td>\n",
              "    </tr>\n",
              "    <tr>\n",
              "      <th>1</th>\n",
              "      <td>0.000058</td>\n",
              "      <td>0.000000</td>\n",
              "      <td>0.014977</td>\n",
              "      <td>0.0</td>\n",
              "      <td>0.000994</td>\n",
              "      <td>0.013602</td>\n",
              "      <td>0.167140</td>\n",
              "      <td>0.010522</td>\n",
              "      <td>0.004237</td>\n",
              "      <td>0.512648</td>\n",
              "      <td>0.037707</td>\n",
              "      <td>0.840785</td>\n",
              "      <td>0.019362</td>\n",
              "      <td>21.6</td>\n",
              "    </tr>\n",
              "    <tr>\n",
              "      <th>2</th>\n",
              "      <td>0.000059</td>\n",
              "      <td>0.000000</td>\n",
              "      <td>0.015174</td>\n",
              "      <td>0.0</td>\n",
              "      <td>0.001007</td>\n",
              "      <td>0.015421</td>\n",
              "      <td>0.131140</td>\n",
              "      <td>0.010661</td>\n",
              "      <td>0.004293</td>\n",
              "      <td>0.519409</td>\n",
              "      <td>0.038204</td>\n",
              "      <td>0.843138</td>\n",
              "      <td>0.008650</td>\n",
              "      <td>34.7</td>\n",
              "    </tr>\n",
              "    <tr>\n",
              "      <th>3</th>\n",
              "      <td>0.000071</td>\n",
              "      <td>0.000000</td>\n",
              "      <td>0.004785</td>\n",
              "      <td>0.0</td>\n",
              "      <td>0.001005</td>\n",
              "      <td>0.015360</td>\n",
              "      <td>0.100527</td>\n",
              "      <td>0.013306</td>\n",
              "      <td>0.006585</td>\n",
              "      <td>0.487268</td>\n",
              "      <td>0.041045</td>\n",
              "      <td>0.866174</td>\n",
              "      <td>0.006453</td>\n",
              "      <td>33.4</td>\n",
              "    </tr>\n",
              "    <tr>\n",
              "      <th>4</th>\n",
              "      <td>0.000151</td>\n",
              "      <td>0.000000</td>\n",
              "      <td>0.004755</td>\n",
              "      <td>0.0</td>\n",
              "      <td>0.000999</td>\n",
              "      <td>0.015587</td>\n",
              "      <td>0.118209</td>\n",
              "      <td>0.013222</td>\n",
              "      <td>0.006543</td>\n",
              "      <td>0.484177</td>\n",
              "      <td>0.040784</td>\n",
              "      <td>0.865631</td>\n",
              "      <td>0.011625</td>\n",
              "      <td>36.2</td>\n",
              "    </tr>\n",
              "    <tr>\n",
              "      <th>...</th>\n",
              "      <td>...</td>\n",
              "      <td>...</td>\n",
              "      <td>...</td>\n",
              "      <td>...</td>\n",
              "      <td>...</td>\n",
              "      <td>...</td>\n",
              "      <td>...</td>\n",
              "      <td>...</td>\n",
              "      <td>...</td>\n",
              "      <td>...</td>\n",
              "      <td>...</td>\n",
              "      <td>...</td>\n",
              "      <td>...</td>\n",
              "      <td>...</td>\n",
              "    </tr>\n",
              "    <tr>\n",
              "      <th>501</th>\n",
              "      <td>0.000130</td>\n",
              "      <td>0.000000</td>\n",
              "      <td>0.024679</td>\n",
              "      <td>0.0</td>\n",
              "      <td>0.001185</td>\n",
              "      <td>0.013638</td>\n",
              "      <td>0.142942</td>\n",
              "      <td>0.005127</td>\n",
              "      <td>0.002069</td>\n",
              "      <td>0.564735</td>\n",
              "      <td>0.043441</td>\n",
              "      <td>0.810881</td>\n",
              "      <td>0.020004</td>\n",
              "      <td>22.4</td>\n",
              "    </tr>\n",
              "    <tr>\n",
              "      <th>502</th>\n",
              "      <td>0.000093</td>\n",
              "      <td>0.000000</td>\n",
              "      <td>0.024421</td>\n",
              "      <td>0.0</td>\n",
              "      <td>0.001173</td>\n",
              "      <td>0.012528</td>\n",
              "      <td>0.157005</td>\n",
              "      <td>0.004683</td>\n",
              "      <td>0.002047</td>\n",
              "      <td>0.558831</td>\n",
              "      <td>0.042987</td>\n",
              "      <td>0.812455</td>\n",
              "      <td>0.018587</td>\n",
              "      <td>20.6</td>\n",
              "    </tr>\n",
              "    <tr>\n",
              "      <th>503</th>\n",
              "      <td>0.000124</td>\n",
              "      <td>0.000000</td>\n",
              "      <td>0.024301</td>\n",
              "      <td>0.0</td>\n",
              "      <td>0.001167</td>\n",
              "      <td>0.014210</td>\n",
              "      <td>0.185364</td>\n",
              "      <td>0.004415</td>\n",
              "      <td>0.002037</td>\n",
              "      <td>0.556091</td>\n",
              "      <td>0.042776</td>\n",
              "      <td>0.808470</td>\n",
              "      <td>0.011488</td>\n",
              "      <td>23.9</td>\n",
              "    </tr>\n",
              "    <tr>\n",
              "      <th>504</th>\n",
              "      <td>0.000225</td>\n",
              "      <td>0.000000</td>\n",
              "      <td>0.024455</td>\n",
              "      <td>0.0</td>\n",
              "      <td>0.001175</td>\n",
              "      <td>0.013927</td>\n",
              "      <td>0.183053</td>\n",
              "      <td>0.004897</td>\n",
              "      <td>0.002050</td>\n",
              "      <td>0.559613</td>\n",
              "      <td>0.043047</td>\n",
              "      <td>0.806519</td>\n",
              "      <td>0.013283</td>\n",
              "      <td>22.0</td>\n",
              "    </tr>\n",
              "    <tr>\n",
              "      <th>505</th>\n",
              "      <td>0.000097</td>\n",
              "      <td>0.000000</td>\n",
              "      <td>0.024389</td>\n",
              "      <td>0.0</td>\n",
              "      <td>0.001171</td>\n",
              "      <td>0.012327</td>\n",
              "      <td>0.165181</td>\n",
              "      <td>0.005121</td>\n",
              "      <td>0.002044</td>\n",
              "      <td>0.558101</td>\n",
              "      <td>0.042931</td>\n",
              "      <td>0.811392</td>\n",
              "      <td>0.016109</td>\n",
              "      <td>11.9</td>\n",
              "    </tr>\n",
              "  </tbody>\n",
              "</table>\n",
              "<p>506 rows × 14 columns</p>\n",
              "</div>"
            ],
            "text/plain": [
              "         CRIM        ZN     INDUS  CHAS  ...   PTRATIO         B     LSTAT  Price\n",
              "0    0.000013  0.035997  0.004620   0.0  ...  0.030597  0.793727  0.009959   24.0\n",
              "1    0.000058  0.000000  0.014977   0.0  ...  0.037707  0.840785  0.019362   21.6\n",
              "2    0.000059  0.000000  0.015174   0.0  ...  0.038204  0.843138  0.008650   34.7\n",
              "3    0.000071  0.000000  0.004785   0.0  ...  0.041045  0.866174  0.006453   33.4\n",
              "4    0.000151  0.000000  0.004755   0.0  ...  0.040784  0.865631  0.011625   36.2\n",
              "..        ...       ...       ...   ...  ...       ...       ...       ...    ...\n",
              "501  0.000130  0.000000  0.024679   0.0  ...  0.043441  0.810881  0.020004   22.4\n",
              "502  0.000093  0.000000  0.024421   0.0  ...  0.042987  0.812455  0.018587   20.6\n",
              "503  0.000124  0.000000  0.024301   0.0  ...  0.042776  0.808470  0.011488   23.9\n",
              "504  0.000225  0.000000  0.024455   0.0  ...  0.043047  0.806519  0.013283   22.0\n",
              "505  0.000097  0.000000  0.024389   0.0  ...  0.042931  0.811392  0.016109   11.9\n",
              "\n",
              "[506 rows x 14 columns]"
            ]
          },
          "metadata": {
            "tags": []
          },
          "execution_count": 26
        }
      ]
    },
    {
      "cell_type": "markdown",
      "metadata": {
        "id": "MbTknm0oz6_W",
        "colab_type": "text"
      },
      "source": [
        "select x, y"
      ]
    },
    {
      "cell_type": "code",
      "metadata": {
        "id": "fPh4C3lUNIz5",
        "colab_type": "code",
        "colab": {}
      },
      "source": [
        "y = (df['Price'])\n",
        "X = (df.iloc[:,:-1])"
      ],
      "execution_count": 0,
      "outputs": []
    },
    {
      "cell_type": "markdown",
      "metadata": {
        "id": "p-l-6F7b0Ekn",
        "colab_type": "text"
      },
      "source": [
        "check NAN in data"
      ]
    },
    {
      "cell_type": "code",
      "metadata": {
        "id": "O7cpOFwvPMNB",
        "colab_type": "code",
        "outputId": "6857801e-7100-4b37-d934-10ac8f3d8c0c",
        "colab": {
          "base_uri": "https://localhost:8080/",
          "height": 51
        }
      },
      "source": [
        "np.unique(X[:])"
      ],
      "execution_count": 0,
      "outputs": [
        {
          "output_type": "execute_result",
          "data": {
            "text/plain": [
              "array([0.00000000e+00, 1.26388341e-05, 1.82678055e-05, ...,\n",
              "                  nan,            nan,            nan])"
            ]
          },
          "metadata": {
            "tags": []
          },
          "execution_count": 35
        }
      ]
    },
    {
      "cell_type": "markdown",
      "metadata": {
        "id": "DhoH-Kes0tm3",
        "colab_type": "text"
      },
      "source": [
        "replace nan to 0"
      ]
    },
    {
      "cell_type": "code",
      "metadata": {
        "id": "4s_ALDFrIABq",
        "colab_type": "code",
        "colab": {}
      },
      "source": [
        "X = X.fillna(0)"
      ],
      "execution_count": 0,
      "outputs": []
    },
    {
      "cell_type": "markdown",
      "metadata": {
        "id": "RkXEU4nb8HEH",
        "colab_type": "text"
      },
      "source": [
        "replace to mean"
      ]
    },
    {
      "cell_type": "code",
      "metadata": {
        "id": "nk4peWyR8MSf",
        "colab_type": "code",
        "outputId": "0038751f-97bf-48e4-e989-c089425d678e",
        "colab": {
          "base_uri": "https://localhost:8080/",
          "height": 221
        }
      },
      "source": [
        "X_mean = (df.iloc[:,:-1])\n",
        "X_mean['RM'] = X_mean['RM'].fillna(X_mean['RM'].mean())\n",
        "X_mean['PTRATIO'] = X_mean['PTRATIO'].fillna(X_mean['PTRATIO'].mean())"
      ],
      "execution_count": 0,
      "outputs": [
        {
          "output_type": "stream",
          "text": [
            "/usr/local/lib/python3.6/dist-packages/ipykernel_launcher.py:2: SettingWithCopyWarning: \n",
            "A value is trying to be set on a copy of a slice from a DataFrame.\n",
            "Try using .loc[row_indexer,col_indexer] = value instead\n",
            "\n",
            "See the caveats in the documentation: http://pandas.pydata.org/pandas-docs/stable/user_guide/indexing.html#returning-a-view-versus-a-copy\n",
            "  \n",
            "/usr/local/lib/python3.6/dist-packages/ipykernel_launcher.py:3: SettingWithCopyWarning: \n",
            "A value is trying to be set on a copy of a slice from a DataFrame.\n",
            "Try using .loc[row_indexer,col_indexer] = value instead\n",
            "\n",
            "See the caveats in the documentation: http://pandas.pydata.org/pandas-docs/stable/user_guide/indexing.html#returning-a-view-versus-a-copy\n",
            "  This is separate from the ipykernel package so we can avoid doing imports until\n"
          ],
          "name": "stderr"
        }
      ]
    },
    {
      "cell_type": "markdown",
      "metadata": {
        "id": "32XaqWRd0z0j",
        "colab_type": "text"
      },
      "source": [
        "Train/ test split"
      ]
    },
    {
      "cell_type": "code",
      "metadata": {
        "id": "ouY65ozcO2ir",
        "colab_type": "code",
        "colab": {}
      },
      "source": [
        "X_train, X_test, y_train, y_test = train_test_split(X, y, \n",
        "                                                    test_size=0.2, random_state=42)\n",
        "X_train_mean, X_test_mean, y_train_mean, y_test_mean = train_test_split(X_mean, y, \n",
        "                                                    test_size=0.2, random_state=42)"
      ],
      "execution_count": 0,
      "outputs": []
    },
    {
      "cell_type": "markdown",
      "metadata": {
        "id": "fpLF5Gh71TUn",
        "colab_type": "text"
      },
      "source": [
        "linear model training score"
      ]
    },
    {
      "cell_type": "code",
      "metadata": {
        "id": "xzQkVDlcTpd4",
        "colab_type": "code",
        "colab": {}
      },
      "source": [
        "model = linear_model.LinearRegression()\n",
        "model.fit(X_train, y_train)\n",
        "score = model.score(X_test, y_test)"
      ],
      "execution_count": 0,
      "outputs": []
    },
    {
      "cell_type": "code",
      "metadata": {
        "id": "2t2AU9RaWf4z",
        "colab_type": "code",
        "outputId": "c57b6af8-9498-4c08-df43-6dd1ca0d452b",
        "colab": {
          "base_uri": "https://localhost:8080/",
          "height": 34
        }
      },
      "source": [
        "y_pred = model.predict(X_test)\n",
        "r2_score_zero = r2_score(y_test, y_pred)\n",
        "r2_score_zero"
      ],
      "execution_count": 0,
      "outputs": [
        {
          "output_type": "execute_result",
          "data": {
            "text/plain": [
              "0.6315358059293079"
            ]
          },
          "metadata": {
            "tags": []
          },
          "execution_count": 65
        }
      ]
    },
    {
      "cell_type": "markdown",
      "metadata": {
        "id": "mYAerogC9wDN",
        "colab_type": "text"
      },
      "source": [
        "Same for mean replace"
      ]
    },
    {
      "cell_type": "code",
      "metadata": {
        "id": "cdWuEjYN9zh8",
        "colab_type": "code",
        "outputId": "e0f11b4f-771d-4132-ebc2-c2cb79ba810c",
        "colab": {
          "base_uri": "https://localhost:8080/",
          "height": 34
        }
      },
      "source": [
        "model_mean = linear_model.LinearRegression()\n",
        "model_mean.fit(X_train_mean, y_train_mean)\n",
        "score = model.score(X_test_mean, y_test_mean)\n",
        "y_pred_mean = model.predict(X_test_mean)\n",
        "r2_score_mean = r2_score(y_test_mean, y_pred_mean)\n",
        "r2_score_mean"
      ],
      "execution_count": 0,
      "outputs": [
        {
          "output_type": "execute_result",
          "data": {
            "text/plain": [
              "0.6513594255037705"
            ]
          },
          "metadata": {
            "tags": []
          },
          "execution_count": 62
        }
      ]
    },
    {
      "cell_type": "markdown",
      "metadata": {
        "id": "kwUqTyOf95Ow",
        "colab_type": "text"
      },
      "source": [
        "plot"
      ]
    },
    {
      "cell_type": "code",
      "metadata": {
        "id": "okJoi9zRAAri",
        "colab_type": "code",
        "outputId": "b6a77fa1-d6dd-4c7d-92c0-62ebb2539d8b",
        "colab": {
          "base_uri": "https://localhost:8080/",
          "height": 34
        }
      },
      "source": [
        "model.coef_[9] "
      ],
      "execution_count": 0,
      "outputs": [
        {
          "output_type": "execute_result",
          "data": {
            "text/plain": [
              "-23.77915285119197"
            ]
          },
          "metadata": {
            "tags": []
          },
          "execution_count": 63
        }
      ]
    },
    {
      "cell_type": "code",
      "metadata": {
        "id": "HqAyqfdxhyB6",
        "colab_type": "code",
        "outputId": "e5ab813c-b42a-4514-d526-2ccb3c53250b",
        "colab": {
          "base_uri": "https://localhost:8080/",
          "height": 296
        }
      },
      "source": [
        "plt.scatter(X_test['TAX'], y_pred, color = 'Green')\n",
        "plt.scatter(X_test['TAX'], y_test, color = 'Black')\n",
        "plt.plot(X_test['TAX'], model.coef_[9]*X_test['TAX'] )  \n",
        "plt.xlabel('Tax')\n",
        "plt.ylabel('Price')\n",
        "plt.show"
      ],
      "execution_count": 0,
      "outputs": [
        {
          "output_type": "execute_result",
          "data": {
            "text/plain": [
              "<function matplotlib.pyplot.show>"
            ]
          },
          "metadata": {
            "tags": []
          },
          "execution_count": 66
        },
        {
          "output_type": "display_data",
          "data": {
            "image/png": "[encoded data removed]",
            "text/plain": [
              "<Figure size 432x288 with 1 Axes>"
            ]
          },
          "metadata": {
            "tags": []
          }
        }
      ]
    },
    {
      "cell_type": "code",
      "metadata": {
        "id": "zDHPdpyLmzDC",
        "colab_type": "code",
        "outputId": "e9aa2039-9ee8-4f8b-f36a-1ae328930b1f",
        "colab": {
          "base_uri": "https://localhost:8080/",
          "height": 296
        }
      },
      "source": [
        "plt.scatter(X_test_mean['TAX'], y_pred_mean, color = 'Green')\n",
        "plt.scatter(X_test_mean['TAX'], y_test_mean, color = 'Black')\n",
        "plt.plot(X_test['TAX'], model_mean.coef_[9]*X_test['TAX'])  \n",
        "plt.xlabel('Tax')\n",
        "plt.ylabel('Price')\n",
        "plt.show"
      ],
      "execution_count": 0,
      "outputs": [
        {
          "output_type": "execute_result",
          "data": {
            "text/plain": [
              "<function matplotlib.pyplot.show>"
            ]
          },
          "metadata": {
            "tags": []
          },
          "execution_count": 71
        },
        {
          "output_type": "display_data",
          "data": {
            "image/png": "[encoded data removed]",
            "text/plain": [
              "<Figure size 432x288 with 1 Axes>"
            ]
          },
          "metadata": {
            "tags": []
          }
        }
      ]
    },
    {
      "cell_type": "markdown",
      "metadata": {
        "id": "djJ1OgNsd5Pd",
        "colab_type": "text"
      },
      "source": [
        "# Lab 2\n",
        "import data"
      ]
    },
    {
      "cell_type": "code",
      "metadata": {
        "id": "-MQGMwl2m3rI",
        "colab_type": "code",
        "colab": {}
      },
      "source": [
        "from sklearn.datasets import load_breast_cancer\n",
        "data = load_breast_cancer(return_X_y=False)"
      ],
      "execution_count": 0,
      "outputs": []
    },
    {
      "cell_type": "code",
      "metadata": {
        "id": "g4PMPXxnrLZL",
        "colab_type": "code",
        "colab": {}
      },
      "source": [
        "df = pd.DataFrame(data['data'], columns=data['feature_names'])\n",
        "df['class'] = data['target']"
      ],
      "execution_count": 0,
      "outputs": []
    },
    {
      "cell_type": "markdown",
      "metadata": {
        "id": "U-NnpYO0eIcP",
        "colab_type": "text"
      },
      "source": [
        "visualize data "
      ]
    },
    {
      "cell_type": "code",
      "metadata": {
        "id": "B25r2kQhsoX1",
        "colab_type": "code",
        "outputId": "a1ac1360-29b1-49a5-fcae-43fa67c7c82a",
        "colab": {
          "base_uri": "https://localhost:8080/"
        }
      },
      "source": [
        "df"
      ],
      "execution_count": 0,
      "outputs": [
        {
          "output_type": "execute_result",
          "data": {
            "text/html": [
              "<div>\n",
              "<style scoped>\n",
              "    .dataframe tbody tr th:only-of-type {\n",
              "        vertical-align: middle;\n",
              "    }\n",
              "\n",
              "    .dataframe tbody tr th {\n",
              "        vertical-align: top;\n",
              "    }\n",
              "\n",
              "    .dataframe thead th {\n",
              "        text-align: right;\n",
              "    }\n",
              "</style>\n",
              "<table border=\"1\" class=\"dataframe\">\n",
              "  <thead>\n",
              "    <tr style=\"text-align: right;\">\n",
              "      <th></th>\n",
              "      <th>mean radius</th>\n",
              "      <th>mean texture</th>\n",
              "      <th>mean perimeter</th>\n",
              "      <th>mean area</th>\n",
              "      <th>mean smoothness</th>\n",
              "      <th>mean compactness</th>\n",
              "      <th>mean concavity</th>\n",
              "      <th>mean concave points</th>\n",
              "      <th>mean symmetry</th>\n",
              "      <th>mean fractal dimension</th>\n",
              "      <th>radius error</th>\n",
              "      <th>texture error</th>\n",
              "      <th>perimeter error</th>\n",
              "      <th>area error</th>\n",
              "      <th>smoothness error</th>\n",
              "      <th>compactness error</th>\n",
              "      <th>concavity error</th>\n",
              "      <th>concave points error</th>\n",
              "      <th>symmetry error</th>\n",
              "      <th>fractal dimension error</th>\n",
              "      <th>worst radius</th>\n",
              "      <th>worst texture</th>\n",
              "      <th>worst perimeter</th>\n",
              "      <th>worst area</th>\n",
              "      <th>worst smoothness</th>\n",
              "      <th>worst compactness</th>\n",
              "      <th>worst concavity</th>\n",
              "      <th>worst concave points</th>\n",
              "      <th>worst symmetry</th>\n",
              "      <th>worst fractal dimension</th>\n",
              "      <th>class</th>\n",
              "    </tr>\n",
              "  </thead>\n",
              "  <tbody>\n",
              "    <tr>\n",
              "      <th>0</th>\n",
              "      <td>17.99</td>\n",
              "      <td>10.38</td>\n",
              "      <td>122.80</td>\n",
              "      <td>1001.0</td>\n",
              "      <td>0.11840</td>\n",
              "      <td>0.27760</td>\n",
              "      <td>0.30010</td>\n",
              "      <td>0.14710</td>\n",
              "      <td>0.2419</td>\n",
              "      <td>0.07871</td>\n",
              "      <td>1.0950</td>\n",
              "      <td>0.9053</td>\n",
              "      <td>8.589</td>\n",
              "      <td>153.40</td>\n",
              "      <td>0.006399</td>\n",
              "      <td>0.04904</td>\n",
              "      <td>0.05373</td>\n",
              "      <td>0.01587</td>\n",
              "      <td>0.03003</td>\n",
              "      <td>0.006193</td>\n",
              "      <td>25.380</td>\n",
              "      <td>17.33</td>\n",
              "      <td>184.60</td>\n",
              "      <td>2019.0</td>\n",
              "      <td>0.16220</td>\n",
              "      <td>0.66560</td>\n",
              "      <td>0.7119</td>\n",
              "      <td>0.2654</td>\n",
              "      <td>0.4601</td>\n",
              "      <td>0.11890</td>\n",
              "      <td>0</td>\n",
              "    </tr>\n",
              "    <tr>\n",
              "      <th>1</th>\n",
              "      <td>20.57</td>\n",
              "      <td>17.77</td>\n",
              "      <td>132.90</td>\n",
              "      <td>1326.0</td>\n",
              "      <td>0.08474</td>\n",
              "      <td>0.07864</td>\n",
              "      <td>0.08690</td>\n",
              "      <td>0.07017</td>\n",
              "      <td>0.1812</td>\n",
              "      <td>0.05667</td>\n",
              "      <td>0.5435</td>\n",
              "      <td>0.7339</td>\n",
              "      <td>3.398</td>\n",
              "      <td>74.08</td>\n",
              "      <td>0.005225</td>\n",
              "      <td>0.01308</td>\n",
              "      <td>0.01860</td>\n",
              "      <td>0.01340</td>\n",
              "      <td>0.01389</td>\n",
              "      <td>0.003532</td>\n",
              "      <td>24.990</td>\n",
              "      <td>23.41</td>\n",
              "      <td>158.80</td>\n",
              "      <td>1956.0</td>\n",
              "      <td>0.12380</td>\n",
              "      <td>0.18660</td>\n",
              "      <td>0.2416</td>\n",
              "      <td>0.1860</td>\n",
              "      <td>0.2750</td>\n",
              "      <td>0.08902</td>\n",
              "      <td>0</td>\n",
              "    </tr>\n",
              "    <tr>\n",
              "      <th>2</th>\n",
              "      <td>19.69</td>\n",
              "      <td>21.25</td>\n",
              "      <td>130.00</td>\n",
              "      <td>1203.0</td>\n",
              "      <td>0.10960</td>\n",
              "      <td>0.15990</td>\n",
              "      <td>0.19740</td>\n",
              "      <td>0.12790</td>\n",
              "      <td>0.2069</td>\n",
              "      <td>0.05999</td>\n",
              "      <td>0.7456</td>\n",
              "      <td>0.7869</td>\n",
              "      <td>4.585</td>\n",
              "      <td>94.03</td>\n",
              "      <td>0.006150</td>\n",
              "      <td>0.04006</td>\n",
              "      <td>0.03832</td>\n",
              "      <td>0.02058</td>\n",
              "      <td>0.02250</td>\n",
              "      <td>0.004571</td>\n",
              "      <td>23.570</td>\n",
              "      <td>25.53</td>\n",
              "      <td>152.50</td>\n",
              "      <td>1709.0</td>\n",
              "      <td>0.14440</td>\n",
              "      <td>0.42450</td>\n",
              "      <td>0.4504</td>\n",
              "      <td>0.2430</td>\n",
              "      <td>0.3613</td>\n",
              "      <td>0.08758</td>\n",
              "      <td>0</td>\n",
              "    </tr>\n",
              "    <tr>\n",
              "      <th>3</th>\n",
              "      <td>11.42</td>\n",
              "      <td>20.38</td>\n",
              "      <td>77.58</td>\n",
              "      <td>386.1</td>\n",
              "      <td>0.14250</td>\n",
              "      <td>0.28390</td>\n",
              "      <td>0.24140</td>\n",
              "      <td>0.10520</td>\n",
              "      <td>0.2597</td>\n",
              "      <td>0.09744</td>\n",
              "      <td>0.4956</td>\n",
              "      <td>1.1560</td>\n",
              "      <td>3.445</td>\n",
              "      <td>27.23</td>\n",
              "      <td>0.009110</td>\n",
              "      <td>0.07458</td>\n",
              "      <td>0.05661</td>\n",
              "      <td>0.01867</td>\n",
              "      <td>0.05963</td>\n",
              "      <td>0.009208</td>\n",
              "      <td>14.910</td>\n",
              "      <td>26.50</td>\n",
              "      <td>98.87</td>\n",
              "      <td>567.7</td>\n",
              "      <td>0.20980</td>\n",
              "      <td>0.86630</td>\n",
              "      <td>0.6869</td>\n",
              "      <td>0.2575</td>\n",
              "      <td>0.6638</td>\n",
              "      <td>0.17300</td>\n",
              "      <td>0</td>\n",
              "    </tr>\n",
              "    <tr>\n",
              "      <th>4</th>\n",
              "      <td>20.29</td>\n",
              "      <td>14.34</td>\n",
              "      <td>135.10</td>\n",
              "      <td>1297.0</td>\n",
              "      <td>0.10030</td>\n",
              "      <td>0.13280</td>\n",
              "      <td>0.19800</td>\n",
              "      <td>0.10430</td>\n",
              "      <td>0.1809</td>\n",
              "      <td>0.05883</td>\n",
              "      <td>0.7572</td>\n",
              "      <td>0.7813</td>\n",
              "      <td>5.438</td>\n",
              "      <td>94.44</td>\n",
              "      <td>0.011490</td>\n",
              "      <td>0.02461</td>\n",
              "      <td>0.05688</td>\n",
              "      <td>0.01885</td>\n",
              "      <td>0.01756</td>\n",
              "      <td>0.005115</td>\n",
              "      <td>22.540</td>\n",
              "      <td>16.67</td>\n",
              "      <td>152.20</td>\n",
              "      <td>1575.0</td>\n",
              "      <td>0.13740</td>\n",
              "      <td>0.20500</td>\n",
              "      <td>0.4000</td>\n",
              "      <td>0.1625</td>\n",
              "      <td>0.2364</td>\n",
              "      <td>0.07678</td>\n",
              "      <td>0</td>\n",
              "    </tr>\n",
              "    <tr>\n",
              "      <th>...</th>\n",
              "      <td>...</td>\n",
              "      <td>...</td>\n",
              "      <td>...</td>\n",
              "      <td>...</td>\n",
              "      <td>...</td>\n",
              "      <td>...</td>\n",
              "      <td>...</td>\n",
              "      <td>...</td>\n",
              "      <td>...</td>\n",
              "      <td>...</td>\n",
              "      <td>...</td>\n",
              "      <td>...</td>\n",
              "      <td>...</td>\n",
              "      <td>...</td>\n",
              "      <td>...</td>\n",
              "      <td>...</td>\n",
              "      <td>...</td>\n",
              "      <td>...</td>\n",
              "      <td>...</td>\n",
              "      <td>...</td>\n",
              "      <td>...</td>\n",
              "      <td>...</td>\n",
              "      <td>...</td>\n",
              "      <td>...</td>\n",
              "      <td>...</td>\n",
              "      <td>...</td>\n",
              "      <td>...</td>\n",
              "      <td>...</td>\n",
              "      <td>...</td>\n",
              "      <td>...</td>\n",
              "      <td>...</td>\n",
              "    </tr>\n",
              "    <tr>\n",
              "      <th>564</th>\n",
              "      <td>21.56</td>\n",
              "      <td>22.39</td>\n",
              "      <td>142.00</td>\n",
              "      <td>1479.0</td>\n",
              "      <td>0.11100</td>\n",
              "      <td>0.11590</td>\n",
              "      <td>0.24390</td>\n",
              "      <td>0.13890</td>\n",
              "      <td>0.1726</td>\n",
              "      <td>0.05623</td>\n",
              "      <td>1.1760</td>\n",
              "      <td>1.2560</td>\n",
              "      <td>7.673</td>\n",
              "      <td>158.70</td>\n",
              "      <td>0.010300</td>\n",
              "      <td>0.02891</td>\n",
              "      <td>0.05198</td>\n",
              "      <td>0.02454</td>\n",
              "      <td>0.01114</td>\n",
              "      <td>0.004239</td>\n",
              "      <td>25.450</td>\n",
              "      <td>26.40</td>\n",
              "      <td>166.10</td>\n",
              "      <td>2027.0</td>\n",
              "      <td>0.14100</td>\n",
              "      <td>0.21130</td>\n",
              "      <td>0.4107</td>\n",
              "      <td>0.2216</td>\n",
              "      <td>0.2060</td>\n",
              "      <td>0.07115</td>\n",
              "      <td>0</td>\n",
              "    </tr>\n",
              "    <tr>\n",
              "      <th>565</th>\n",
              "      <td>20.13</td>\n",
              "      <td>28.25</td>\n",
              "      <td>131.20</td>\n",
              "      <td>1261.0</td>\n",
              "      <td>0.09780</td>\n",
              "      <td>0.10340</td>\n",
              "      <td>0.14400</td>\n",
              "      <td>0.09791</td>\n",
              "      <td>0.1752</td>\n",
              "      <td>0.05533</td>\n",
              "      <td>0.7655</td>\n",
              "      <td>2.4630</td>\n",
              "      <td>5.203</td>\n",
              "      <td>99.04</td>\n",
              "      <td>0.005769</td>\n",
              "      <td>0.02423</td>\n",
              "      <td>0.03950</td>\n",
              "      <td>0.01678</td>\n",
              "      <td>0.01898</td>\n",
              "      <td>0.002498</td>\n",
              "      <td>23.690</td>\n",
              "      <td>38.25</td>\n",
              "      <td>155.00</td>\n",
              "      <td>1731.0</td>\n",
              "      <td>0.11660</td>\n",
              "      <td>0.19220</td>\n",
              "      <td>0.3215</td>\n",
              "      <td>0.1628</td>\n",
              "      <td>0.2572</td>\n",
              "      <td>0.06637</td>\n",
              "      <td>0</td>\n",
              "    </tr>\n",
              "    <tr>\n",
              "      <th>566</th>\n",
              "      <td>16.60</td>\n",
              "      <td>28.08</td>\n",
              "      <td>108.30</td>\n",
              "      <td>858.1</td>\n",
              "      <td>0.08455</td>\n",
              "      <td>0.10230</td>\n",
              "      <td>0.09251</td>\n",
              "      <td>0.05302</td>\n",
              "      <td>0.1590</td>\n",
              "      <td>0.05648</td>\n",
              "      <td>0.4564</td>\n",
              "      <td>1.0750</td>\n",
              "      <td>3.425</td>\n",
              "      <td>48.55</td>\n",
              "      <td>0.005903</td>\n",
              "      <td>0.03731</td>\n",
              "      <td>0.04730</td>\n",
              "      <td>0.01557</td>\n",
              "      <td>0.01318</td>\n",
              "      <td>0.003892</td>\n",
              "      <td>18.980</td>\n",
              "      <td>34.12</td>\n",
              "      <td>126.70</td>\n",
              "      <td>1124.0</td>\n",
              "      <td>0.11390</td>\n",
              "      <td>0.30940</td>\n",
              "      <td>0.3403</td>\n",
              "      <td>0.1418</td>\n",
              "      <td>0.2218</td>\n",
              "      <td>0.07820</td>\n",
              "      <td>0</td>\n",
              "    </tr>\n",
              "    <tr>\n",
              "      <th>567</th>\n",
              "      <td>20.60</td>\n",
              "      <td>29.33</td>\n",
              "      <td>140.10</td>\n",
              "      <td>1265.0</td>\n",
              "      <td>0.11780</td>\n",
              "      <td>0.27700</td>\n",
              "      <td>0.35140</td>\n",
              "      <td>0.15200</td>\n",
              "      <td>0.2397</td>\n",
              "      <td>0.07016</td>\n",
              "      <td>0.7260</td>\n",
              "      <td>1.5950</td>\n",
              "      <td>5.772</td>\n",
              "      <td>86.22</td>\n",
              "      <td>0.006522</td>\n",
              "      <td>0.06158</td>\n",
              "      <td>0.07117</td>\n",
              "      <td>0.01664</td>\n",
              "      <td>0.02324</td>\n",
              "      <td>0.006185</td>\n",
              "      <td>25.740</td>\n",
              "      <td>39.42</td>\n",
              "      <td>184.60</td>\n",
              "      <td>1821.0</td>\n",
              "      <td>0.16500</td>\n",
              "      <td>0.86810</td>\n",
              "      <td>0.9387</td>\n",
              "      <td>0.2650</td>\n",
              "      <td>0.4087</td>\n",
              "      <td>0.12400</td>\n",
              "      <td>0</td>\n",
              "    </tr>\n",
              "    <tr>\n",
              "      <th>568</th>\n",
              "      <td>7.76</td>\n",
              "      <td>24.54</td>\n",
              "      <td>47.92</td>\n",
              "      <td>181.0</td>\n",
              "      <td>0.05263</td>\n",
              "      <td>0.04362</td>\n",
              "      <td>0.00000</td>\n",
              "      <td>0.00000</td>\n",
              "      <td>0.1587</td>\n",
              "      <td>0.05884</td>\n",
              "      <td>0.3857</td>\n",
              "      <td>1.4280</td>\n",
              "      <td>2.548</td>\n",
              "      <td>19.15</td>\n",
              "      <td>0.007189</td>\n",
              "      <td>0.00466</td>\n",
              "      <td>0.00000</td>\n",
              "      <td>0.00000</td>\n",
              "      <td>0.02676</td>\n",
              "      <td>0.002783</td>\n",
              "      <td>9.456</td>\n",
              "      <td>30.37</td>\n",
              "      <td>59.16</td>\n",
              "      <td>268.6</td>\n",
              "      <td>0.08996</td>\n",
              "      <td>0.06444</td>\n",
              "      <td>0.0000</td>\n",
              "      <td>0.0000</td>\n",
              "      <td>0.2871</td>\n",
              "      <td>0.07039</td>\n",
              "      <td>1</td>\n",
              "    </tr>\n",
              "  </tbody>\n",
              "</table>\n",
              "<p>569 rows × 31 columns</p>\n",
              "</div>"
            ],
            "text/plain": [
              "     mean radius  mean texture  ...  worst fractal dimension  class\n",
              "0          17.99         10.38  ...                  0.11890      0\n",
              "1          20.57         17.77  ...                  0.08902      0\n",
              "2          19.69         21.25  ...                  0.08758      0\n",
              "3          11.42         20.38  ...                  0.17300      0\n",
              "4          20.29         14.34  ...                  0.07678      0\n",
              "..           ...           ...  ...                      ...    ...\n",
              "564        21.56         22.39  ...                  0.07115      0\n",
              "565        20.13         28.25  ...                  0.06637      0\n",
              "566        16.60         28.08  ...                  0.07820      0\n",
              "567        20.60         29.33  ...                  0.12400      0\n",
              "568         7.76         24.54  ...                  0.07039      1\n",
              "\n",
              "[569 rows x 31 columns]"
            ]
          },
          "metadata": {
            "tags": []
          },
          "execution_count": 16
        }
      ]
    },
    {
      "cell_type": "markdown",
      "metadata": {
        "id": "mj5J3-O0nHXE",
        "colab_type": "text"
      },
      "source": [
        "Split data"
      ]
    },
    {
      "cell_type": "code",
      "metadata": {
        "id": "OSTRC4XrHpAu",
        "colab_type": "code",
        "colab": {}
      },
      "source": [
        "y = np.array(df['class'])\n",
        "X = np.array(df.iloc[:, :-1])"
      ],
      "execution_count": 0,
      "outputs": []
    },
    {
      "cell_type": "code",
      "metadata": {
        "id": "8is7vH6SIA6k",
        "colab_type": "code",
        "colab": {}
      },
      "source": [
        "X_train, X_test, y_train, y_test = train_test_split(X, y, \n",
        "                                                    test_size=0.2, random_state=42)"
      ],
      "execution_count": 0,
      "outputs": []
    },
    {
      "cell_type": "markdown",
      "metadata": {
        "id": "9bhye5zqrlkR",
        "colab_type": "text"
      },
      "source": [
        "implement logistic regression recieve score"
      ]
    },
    {
      "cell_type": "code",
      "metadata": {
        "id": "Lj8yv-EnaJrr",
        "colab_type": "code",
        "colab": {}
      },
      "source": [
        "from sklearn.linear_model import LogisticRegression\n",
        "model = LogisticRegression() "
      ],
      "execution_count": 0,
      "outputs": []
    },
    {
      "cell_type": "code",
      "metadata": {
        "id": "jadCyABofHwm",
        "colab_type": "code",
        "outputId": "1e4ddca9-992f-44ba-8ab0-4816ea2ead35",
        "colab": {
          "base_uri": "https://localhost:8080/"
        }
      },
      "source": [
        "model.fit(X_train, y_train)\n",
        "y_predict = model.predict(X_test)\n",
        "print(model.score(X_test, y_test))"
      ],
      "execution_count": 0,
      "outputs": [
        {
          "output_type": "stream",
          "text": [
            "0.956140350877193\n"
          ],
          "name": "stdout"
        },
        {
          "output_type": "stream",
          "text": [
            "/usr/local/lib/python3.6/dist-packages/sklearn/linear_model/logistic.py:432: FutureWarning: Default solver will be changed to 'lbfgs' in 0.22. Specify a solver to silence this warning.\n",
            "  FutureWarning)\n"
          ],
          "name": "stderr"
        }
      ]
    },
    {
      "cell_type": "markdown",
      "metadata": {
        "id": "9B-dbi-ZsmNH",
        "colab_type": "text"
      },
      "source": [
        "Logistic model for 2 features"
      ]
    },
    {
      "cell_type": "code",
      "metadata": {
        "id": "x3cFpH2hwIWy",
        "colab_type": "code",
        "outputId": "f82ac419-5009-4a42-b469-e382a78a8660",
        "colab": {
          "base_uri": "https://localhost:8080/",
          "height": 68
        }
      },
      "source": [
        "model_plt = LogisticRegression()\n",
        "model_plt.fit(X_train[:, 0:2], y_train)\n",
        "print(model_plt.score(X_test[:, 0:2], y_test))"
      ],
      "execution_count": 0,
      "outputs": [
        {
          "output_type": "stream",
          "text": [
            "0.8596491228070176\n"
          ],
          "name": "stdout"
        },
        {
          "output_type": "stream",
          "text": [
            "/usr/local/lib/python3.6/dist-packages/sklearn/linear_model/logistic.py:432: FutureWarning: Default solver will be changed to 'lbfgs' in 0.22. Specify a solver to silence this warning.\n",
            "  FutureWarning)\n"
          ],
          "name": "stderr"
        }
      ]
    },
    {
      "cell_type": "markdown",
      "metadata": {
        "id": "4BhNrvRis90j",
        "colab_type": "text"
      },
      "source": [
        "Plot graph"
      ]
    },
    {
      "cell_type": "code",
      "metadata": {
        "id": "iTeR_rFahYaD",
        "colab_type": "code",
        "outputId": "8ffd11a6-e7e0-4a01-c28a-b6ff343ae2a4",
        "colab": {
          "base_uri": "https://localhost:8080/",
          "height": 371
        }
      },
      "source": [
        "x_min, x_max = X_test[:, 0].min() - .5, X_test[:, 0].max() + .5\n",
        "y_min, y_max = X_test[:, 1].min() - .5, X_test[:, 1].max() + .5\n",
        "h = .02  # step size in the mesh\n",
        "xx, yy = np.meshgrid(np.arange(x_min, x_max, h), np.arange(y_min, y_max, h))\n",
        "\n",
        "Z = model_plt.predict(np.c_[xx.ravel(), yy.ravel()])\n",
        "\n",
        "#Put the result into a color plot\n",
        "Z = Z.reshape(xx.shape)\n",
        "plt.figure(1, figsize=(8, 6))\n",
        "plt.pcolormesh(xx, yy, Z, cmap=plt.cm.Paired)\n",
        "\n",
        "# Plot also the training points\n",
        "#plt.plot(model.coef_[0][0]*X_test[:, 0] +  model.coef_[0][1]*X_test[:, 1] + model.intercept_[0])\n",
        "plt.scatter(X_test[:, 0], X_test[:, 1], c=y_test, edgecolors='k', cmap=plt.cm.Paired)\n",
        "plt.xlabel(data['feature_names'][0])\n",
        "plt.ylabel(data['feature_names'][1])\n",
        "\n",
        "plt.xlim(xx.min(), xx.max())\n",
        "plt.ylim(yy.min(), yy.max())\n",
        "plt.xticks(())\n",
        "plt.yticks(())\n",
        "\n",
        "plt.show()"
      ],
      "execution_count": 0,
      "outputs": [
        {
          "output_type": "display_data",
          "data": {
            "image/png": "[encoded data removed]",
            "text/plain": [
              "<Figure size 576x432 with 1 Axes>"
            ]
          },
          "metadata": {
            "tags": []
          }
        }
      ]
    },
    {
      "cell_type": "code",
      "metadata": {
        "id": "OMIXYfVyhYbL",
        "colab_type": "code",
        "colab": {}
      },
      "source": [
        "plt.figure(1, figsize=(10, 7.5))\n",
        "plt.clf()\n",
        "i = 1\n",
        "plt.scatter(X_test[:,i], y_test, color='black')\n",
        "X_uniform = np.arange(-200, 200, 0.1)\n",
        "loss = X_uniform * model.coef_[0][0] + model.intercept_[0]\n",
        "loss = scipy.special.expit(loss)\n",
        "plt.plot( loss, color='red', linewidth=3)\n",
        "\n",
        "plt.ylabel('y')\n",
        "plt.xlabel('X')\n",
        "plt.legend(('Logistic Regression Model',),\n",
        "           loc=\"lower right\")\n",
        "plt.tight_layout()\n",
        "plt.show()"
      ],
      "execution_count": 0,
      "outputs": []
    }
  ]
}