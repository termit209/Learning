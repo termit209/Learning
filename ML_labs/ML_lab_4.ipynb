{
  "nbformat": 4,
  "nbformat_minor": 0,
  "metadata": {
    "colab": {
      "name": "ML_lab_4.ipynb",
      "provenance": []
    },
    "kernelspec": {
      "name": "python3",
      "display_name": "Python 3"
    }
  },
  "cells": [
    {
      "cell_type": "markdown",
      "metadata": {
        "id": "uVodBj6EEKUo",
        "colab_type": "text"
      },
      "source": [
        "import lib"
      ]
    },
    {
      "cell_type": "code",
      "metadata": {
        "id": "fyZCVya4EIkR",
        "colab_type": "code",
        "colab": {}
      },
      "source": [
        "import numpy as np\n",
        "import keras\n",
        "import pandas as pd\n",
        "import matplotlib.pyplot as plt\n",
        "import tensorflow as tf\n",
        "\n",
        "from sklearn.model_selection import train_test_split\n",
        "from tensorflow.python.client import device_lib\n",
        "from keras.models import Model\n",
        "from keras.models import Sequential\n",
        "from keras.layers import Dense, Dropout, Activation, Concatenate\n",
        "from keras.callbacks import ModelCheckpoint, EarlyStopping\n",
        "from keras.layers import Input, Dense, Flatten, LSTM, InputLayer\n",
        "from keras import optimizers"
      ],
      "execution_count": 0,
      "outputs": []
    },
    {
      "cell_type": "markdown",
      "metadata": {
        "id": "sneB-mgzERDt",
        "colab_type": "text"
      },
      "source": [
        "import data"
      ]
    },
    {
      "cell_type": "code",
      "metadata": {
        "id": "m5aIKgkhESe6",
        "colab_type": "code",
        "colab": {}
      },
      "source": [
        "path = '/content/ypred (1).csv'\n",
        "df = pd.read_csv(path)\n",
        "from sklearn.model_selection import train_test_split\n",
        "X = df.iloc[:, :-1]\n",
        "y = df['Volume']\n",
        "X_train, X_test, y_train, y_test = train_test_split(X, y, random_state=42)"
      ],
      "execution_count": 0,
      "outputs": []
    },
    {
      "cell_type": "markdown",
      "metadata": {
        "id": "eS94PGT1Gf4V",
        "colab_type": "text"
      },
      "source": [
        "define model"
      ]
    },
    {
      "cell_type": "code",
      "metadata": {
        "id": "sFAJVMduEiNo",
        "colab_type": "code",
        "colab": {}
      },
      "source": [
        "def build_model():\n",
        "  model = Sequential([\n",
        "    Dense(128, activation='relu', input_shape=[len(X.keys())]),\n",
        "    Dense(128, activation='relu'),\n",
        "    Dense(1)\n",
        "  ])\n",
        "\n",
        "  optimizer = optimizers.Adam(0.001)\n",
        "\n",
        "  model.compile(loss='mse',\n",
        "                optimizer=optimizer,\n",
        "                metrics=['mae', 'mse'])\n",
        "  return model"
      ],
      "execution_count": 0,
      "outputs": []
    },
    {
      "cell_type": "markdown",
      "metadata": {
        "id": "VzIOaE_IGjsz",
        "colab_type": "text"
      },
      "source": [
        "trainig model"
      ]
    },
    {
      "cell_type": "code",
      "metadata": {
        "id": "vzkSo5xqEhqx",
        "colab_type": "code",
        "colab": {}
      },
      "source": [
        "model = build_model()\n",
        "EPOCHS = 1000\n",
        "history = model.fit(X, y, epochs=EPOCHS, validation_split = 0.2, verbose=0)"
      ],
      "execution_count": 0,
      "outputs": []
    },
    {
      "cell_type": "markdown",
      "metadata": {
        "id": "q9maUxKiGnKT",
        "colab_type": "text"
      },
      "source": [
        "test"
      ]
    },
    {
      "cell_type": "code",
      "metadata": {
        "id": "Dl9_aeXGE0D9",
        "colab_type": "code",
        "outputId": "50acf68e-6234-41a9-f7fd-a061c239deb4",
        "colab": {
          "base_uri": "https://localhost:8080/",
          "height": 51
        }
      },
      "source": [
        "print('Predict:', model.predict(np.array([[1, 1, 4, 2017, 24]]))[0][0])\n",
        "print('True:', 6 * 2017)"
      ],
      "execution_count": 0,
      "outputs": [
        {
          "output_type": "stream",
          "text": [
            "Predict 12097.808\n",
            "True 12102\n"
          ],
          "name": "stdout"
        }
      ]
    }
  ]
}